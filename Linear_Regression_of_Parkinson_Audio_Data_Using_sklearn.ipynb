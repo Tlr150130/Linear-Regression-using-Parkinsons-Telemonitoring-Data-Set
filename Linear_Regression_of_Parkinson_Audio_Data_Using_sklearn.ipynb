{
  "nbformat": 4,
  "nbformat_minor": 0,
  "metadata": {
    "colab": {
      "name": "Linear Regression of Parkinson Audio Data Using sklearn.ipynb",
      "provenance": [],
      "collapsed_sections": []
    },
    "kernelspec": {
      "name": "python3",
      "display_name": "Python 3"
    }
  },
  "cells": [
    {
      "cell_type": "markdown",
      "metadata": {
        "id": "rKZEcoi-jQDq"
      },
      "source": [
        "#Linear Regression of Parkinson Audio Data Using sklearn\n",
        "Author: Troy Reynolds and Kevin Nguyen"
      ]
    },
    {
      "cell_type": "code",
      "metadata": {
        "id": "p19NMaf-5tOs"
      },
      "source": [
        "#Import potentially useful packages\n",
        "import numpy as np\n",
        "import pandas as pd \n",
        "from sklearn.model_selection import train_test_split \n",
        "from sklearn.linear_model import Ridge\n",
        "from sklearn import metrics"
      ],
      "execution_count": 2,
      "outputs": []
    },
    {
      "cell_type": "code",
      "metadata": {
        "id": "lZl1k7gl5wPS",
        "outputId": "b03c817c-3996-4780-e159-87a1912f18f8",
        "colab": {
          "base_uri": "https://localhost:8080/",
          "height": 34
        }
      },
      "source": [
        "#Get data from github repository and read into a dataframe\n",
        "! git clone https://github.com/Tlr150130/Linear-Regression-using-Parkinsons-Telemonitoring-Data-Set\n",
        "df = pd.read_csv('/content/Linear-Regression-using-Parkinsons-Telemonitoring-Data-Set/parkinsons_updrs.data')   #Input path to data"
      ],
      "execution_count": 4,
      "outputs": [
        {
          "output_type": "stream",
          "text": [
            "fatal: destination path 'Linear-Regression-using-Parkinsons-Telemonitoring-Data-Set' already exists and is not an empty directory.\n"
          ],
          "name": "stdout"
        }
      ]
    },
    {
      "cell_type": "code",
      "metadata": {
        "id": "-ZXCtcZb55Ge"
      },
      "source": [
        "#Process the data\n",
        "dfPost=df.drop(labels= [\"subject#\", 'test_time', 'motor_UPDRS'],axis = 1)\n",
        "normDf = (dfPost - dfPost.mean())/dfPost.std()\n",
        "labels = normDf[['total_UPDRS']]\n",
        "data = normDf.drop(labels = ['total_UPDRS'], axis = 1)\n",
        "\n",
        "X_train, X_test, Y_train, Y_test = train_test_split(data, labels, test_size = 0.2, random_state=5) \n"
      ],
      "execution_count": 5,
      "outputs": []
    },
    {
      "cell_type": "code",
      "metadata": {
        "id": "-jT3cJ2s_ioW",
        "outputId": "956f112f-9441-4c9a-d26d-73eb7c5628ff",
        "colab": {
          "base_uri": "https://localhost:8080/",
          "height": 150
        }
      },
      "source": [
        "#Linear Regression using slkearn and ridge optimization\n",
        "ridgereg = Ridge(alpha=0.5, normalize=False)   #Already normalized with respect to the entire dataset\n",
        "ridgereg.fit(X_train, Y_train)\n",
        "Y_pred = ridgereg.predict(X_test)\n",
        "print (\"mean_squared_error : \",metrics.mean_squared_error(Y_test, Y_pred))\n",
        "print(\"\\n\")\n",
        "print(\"Linear Regression Coefficients:\")\n",
        "print(ridgereg.coef_)\n"
      ],
      "execution_count": null,
      "outputs": [
        {
          "output_type": "stream",
          "text": [
            "mean_squared_error :  0.8699595022895787\n",
            "\n",
            "\n",
            "Linear Regression Coefficients:\n",
            "[[ 0.25011579 -0.12128326  0.06522514 -0.18505979  0.0551846  -0.11817735\n",
            "   0.12535833  0.34557817 -0.1994277  -0.13940575 -0.10522377  0.10028226\n",
            "  -0.12159665 -0.07059986 -0.27021901  0.0210747  -0.20663117  0.13032991]]\n",
            "[[0.00293575]]\n"
          ],
          "name": "stdout"
        }
      ]
    }
  ]
}